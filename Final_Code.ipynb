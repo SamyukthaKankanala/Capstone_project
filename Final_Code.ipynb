{
 "cells": [
  {
   "cell_type": "code",
   "execution_count": 57,
   "id": "0f20b98c",
   "metadata": {},
   "outputs": [
    {
     "name": "stdout",
     "output_type": "stream",
     "text": [
      "Requirement already satisfied: scikit-learn==1.2.2 in c:\\users\\akken\\anaconda3\\lib\\site-packages (1.2.2)\n",
      "Requirement already satisfied: numpy>=1.17.3 in c:\\users\\akken\\anaconda3\\lib\\site-packages (from scikit-learn==1.2.2) (1.24.3)\n",
      "Requirement already satisfied: scipy>=1.3.2 in c:\\users\\akken\\anaconda3\\lib\\site-packages (from scikit-learn==1.2.2) (1.11.1)\n",
      "Requirement already satisfied: joblib>=1.1.1 in c:\\users\\akken\\anaconda3\\lib\\site-packages (from scikit-learn==1.2.2) (1.2.0)\n",
      "Requirement already satisfied: threadpoolctl>=2.0.0 in c:\\users\\akken\\anaconda3\\lib\\site-packages (from scikit-learn==1.2.2) (2.2.0)\n",
      "Note: you may need to restart the kernel to use updated packages.\n"
     ]
    }
   ],
   "source": [
    "pip install scikit-learn==1.2.2"
   ]
  },
  {
   "cell_type": "markdown",
   "id": "bd643e45",
   "metadata": {},
   "source": [
    "# Sentiment Analysis of Online Product Reviews\n",
    "### Samyuktha Kankanala"
   ]
  },
  {
   "cell_type": "markdown",
   "id": "397c33a1",
   "metadata": {},
   "source": [
    "### Importing required libraries"
   ]
  },
  {
   "cell_type": "code",
   "execution_count": 1,
   "id": "14b8e625",
   "metadata": {},
   "outputs": [],
   "source": [
    "import numpy as np\n",
    "import pandas as pd\n",
    "import seaborn as sns\n",
    "import matplotlib.pyplot as plt\n"
   ]
  },
  {
   "cell_type": "code",
   "execution_count": 2,
   "id": "082ec031",
   "metadata": {},
   "outputs": [],
   "source": [
    "data = pd.read_csv(\"marketing_sample_for_walmart_com-walmart_product_reviews__20200401_20200630__30k_data.csv\")\n"
   ]
  },
  {
   "cell_type": "code",
   "execution_count": 3,
   "id": "a59c2b51",
   "metadata": {},
   "outputs": [
    {
     "name": "stdout",
     "output_type": "stream",
     "text": [
      "<class 'pandas.core.frame.DataFrame'>\n",
      "RangeIndex: 29997 entries, 0 to 29996\n",
      "Data columns (total 18 columns):\n",
      " #   Column                Non-Null Count  Dtype  \n",
      "---  ------                --------------  -----  \n",
      " 0   Uniq Id               29997 non-null  object \n",
      " 1   Crawl Timestamp       29997 non-null  object \n",
      " 2   Pageurl               29997 non-null  object \n",
      " 3   Website               29997 non-null  object \n",
      " 4   Title                 2721 non-null   object \n",
      " 5   Rating                29997 non-null  float64\n",
      " 6   Review                24617 non-null  object \n",
      " 7   Reviewer Name         28377 non-null  object \n",
      " 8   Review Upvotes        29997 non-null  int64  \n",
      " 9   Review Downvotes      29997 non-null  int64  \n",
      " 10  Verified Purchaser    29997 non-null  object \n",
      " 11  Recommended Purchase  29997 non-null  object \n",
      " 12  Review Date           29997 non-null  object \n",
      " 13  Five Star             29903 non-null  float64\n",
      " 14  Four Star             29903 non-null  float64\n",
      " 15  Three Star            29903 non-null  float64\n",
      " 16  Two Star              29903 non-null  float64\n",
      " 17  One Star              29903 non-null  float64\n",
      "dtypes: float64(6), int64(2), object(10)\n",
      "memory usage: 4.1+ MB\n"
     ]
    }
   ],
   "source": [
    "data.info()"
   ]
  },
  {
   "cell_type": "code",
   "execution_count": 4,
   "id": "86fbe69b",
   "metadata": {},
   "outputs": [
    {
     "data": {
      "text/html": [
       "<div>\n",
       "<style scoped>\n",
       "    .dataframe tbody tr th:only-of-type {\n",
       "        vertical-align: middle;\n",
       "    }\n",
       "\n",
       "    .dataframe tbody tr th {\n",
       "        vertical-align: top;\n",
       "    }\n",
       "\n",
       "    .dataframe thead th {\n",
       "        text-align: right;\n",
       "    }\n",
       "</style>\n",
       "<table border=\"1\" class=\"dataframe\">\n",
       "  <thead>\n",
       "    <tr style=\"text-align: right;\">\n",
       "      <th></th>\n",
       "      <th>Uniq Id</th>\n",
       "      <th>Crawl Timestamp</th>\n",
       "      <th>Pageurl</th>\n",
       "      <th>Website</th>\n",
       "      <th>Title</th>\n",
       "      <th>Rating</th>\n",
       "      <th>Review</th>\n",
       "      <th>Reviewer Name</th>\n",
       "      <th>Review Upvotes</th>\n",
       "      <th>Review Downvotes</th>\n",
       "      <th>Verified Purchaser</th>\n",
       "      <th>Recommended Purchase</th>\n",
       "      <th>Review Date</th>\n",
       "      <th>Five Star</th>\n",
       "      <th>Four Star</th>\n",
       "      <th>Three Star</th>\n",
       "      <th>Two Star</th>\n",
       "      <th>One Star</th>\n",
       "    </tr>\n",
       "  </thead>\n",
       "  <tbody>\n",
       "    <tr>\n",
       "      <th>0</th>\n",
       "      <td>1800878dcfa5255c691f2a87ce8b2869</td>\n",
       "      <td>2020-05-16 17:58:33 +0000</td>\n",
       "      <td>https://www.walmart.com/reviews/product/36907838</td>\n",
       "      <td>walmart.com</td>\n",
       "      <td>NaN</td>\n",
       "      <td>1.0</td>\n",
       "      <td>One star for looking nice. That’s it. After tr...</td>\n",
       "      <td>PJ10</td>\n",
       "      <td>0</td>\n",
       "      <td>0</td>\n",
       "      <td>No</td>\n",
       "      <td>No</td>\n",
       "      <td>7/28/2018</td>\n",
       "      <td>23.0</td>\n",
       "      <td>5.0</td>\n",
       "      <td>1.0</td>\n",
       "      <td>3.0</td>\n",
       "      <td>6.0</td>\n",
       "    </tr>\n",
       "    <tr>\n",
       "      <th>1</th>\n",
       "      <td>ac06ca1b77310d539c9a74eed7a8a8e2</td>\n",
       "      <td>2020-04-17 01:05:43 +0000</td>\n",
       "      <td>https://www.walmart.com/reviews/product/708236785</td>\n",
       "      <td>walmart.com</td>\n",
       "      <td>NaN</td>\n",
       "      <td>4.0</td>\n",
       "      <td>Love this phone so far have had it almost a mo...</td>\n",
       "      <td>KelJo</td>\n",
       "      <td>9</td>\n",
       "      <td>3</td>\n",
       "      <td>No</td>\n",
       "      <td>No</td>\n",
       "      <td>11/14/2017</td>\n",
       "      <td>91.0</td>\n",
       "      <td>23.0</td>\n",
       "      <td>13.0</td>\n",
       "      <td>9.0</td>\n",
       "      <td>31.0</td>\n",
       "    </tr>\n",
       "    <tr>\n",
       "      <th>2</th>\n",
       "      <td>9c4b10fff4e5e2cc7e2e1bbed76e2220</td>\n",
       "      <td>2020-06-08 10:35:05 +0000</td>\n",
       "      <td>https://www.walmart.com/reviews/product/831078728</td>\n",
       "      <td>walmart.com</td>\n",
       "      <td>NaN</td>\n",
       "      <td>4.0</td>\n",
       "      <td>This TV is absolutely fantastic. This is my th...</td>\n",
       "      <td>TheBigChalupa11</td>\n",
       "      <td>0</td>\n",
       "      <td>0</td>\n",
       "      <td>Yes</td>\n",
       "      <td>No</td>\n",
       "      <td>5/20/2020</td>\n",
       "      <td>32.0</td>\n",
       "      <td>8.0</td>\n",
       "      <td>1.0</td>\n",
       "      <td>0.0</td>\n",
       "      <td>0.0</td>\n",
       "    </tr>\n",
       "    <tr>\n",
       "      <th>3</th>\n",
       "      <td>b5a5dc8de9fc0468aab961f097b56091</td>\n",
       "      <td>2020-04-13 03:57:29 +0000</td>\n",
       "      <td>https://www.walmart.com/reviews/product/40712755</td>\n",
       "      <td>walmart.com</td>\n",
       "      <td>NaN</td>\n",
       "      <td>5.0</td>\n",
       "      <td>Refurb, good shape, good price, does what I wa...</td>\n",
       "      <td>Micalic</td>\n",
       "      <td>0</td>\n",
       "      <td>0</td>\n",
       "      <td>No</td>\n",
       "      <td>No</td>\n",
       "      <td>7/9/2019</td>\n",
       "      <td>418.0</td>\n",
       "      <td>62.0</td>\n",
       "      <td>17.0</td>\n",
       "      <td>1.0</td>\n",
       "      <td>13.0</td>\n",
       "    </tr>\n",
       "    <tr>\n",
       "      <th>4</th>\n",
       "      <td>430433b52b882e540c16363d448e012b</td>\n",
       "      <td>2020-05-19 03:52:42 +0000</td>\n",
       "      <td>https://www.walmart.com/reviews/product/46597970</td>\n",
       "      <td>walmart.com</td>\n",
       "      <td>NaN</td>\n",
       "      <td>5.0</td>\n",
       "      <td>Very nice tablet! Looks brand new. Fired right...</td>\n",
       "      <td>jcan74</td>\n",
       "      <td>0</td>\n",
       "      <td>0</td>\n",
       "      <td>No</td>\n",
       "      <td>No</td>\n",
       "      <td>2/11/2020</td>\n",
       "      <td>213.0</td>\n",
       "      <td>57.0</td>\n",
       "      <td>25.0</td>\n",
       "      <td>24.0</td>\n",
       "      <td>87.0</td>\n",
       "    </tr>\n",
       "  </tbody>\n",
       "</table>\n",
       "</div>"
      ],
      "text/plain": [
       "                            Uniq Id            Crawl Timestamp  \\\n",
       "0  1800878dcfa5255c691f2a87ce8b2869  2020-05-16 17:58:33 +0000   \n",
       "1  ac06ca1b77310d539c9a74eed7a8a8e2  2020-04-17 01:05:43 +0000   \n",
       "2  9c4b10fff4e5e2cc7e2e1bbed76e2220  2020-06-08 10:35:05 +0000   \n",
       "3  b5a5dc8de9fc0468aab961f097b56091  2020-04-13 03:57:29 +0000   \n",
       "4  430433b52b882e540c16363d448e012b  2020-05-19 03:52:42 +0000   \n",
       "\n",
       "                                             Pageurl      Website Title  \\\n",
       "0   https://www.walmart.com/reviews/product/36907838  walmart.com   NaN   \n",
       "1  https://www.walmart.com/reviews/product/708236785  walmart.com   NaN   \n",
       "2  https://www.walmart.com/reviews/product/831078728  walmart.com   NaN   \n",
       "3   https://www.walmart.com/reviews/product/40712755  walmart.com   NaN   \n",
       "4   https://www.walmart.com/reviews/product/46597970  walmart.com   NaN   \n",
       "\n",
       "   Rating                                             Review    Reviewer Name  \\\n",
       "0     1.0  One star for looking nice. That’s it. After tr...             PJ10   \n",
       "1     4.0  Love this phone so far have had it almost a mo...            KelJo   \n",
       "2     4.0  This TV is absolutely fantastic. This is my th...  TheBigChalupa11   \n",
       "3     5.0  Refurb, good shape, good price, does what I wa...          Micalic   \n",
       "4     5.0  Very nice tablet! Looks brand new. Fired right...           jcan74   \n",
       "\n",
       "   Review Upvotes  Review Downvotes Verified Purchaser Recommended Purchase  \\\n",
       "0               0                 0                 No                   No   \n",
       "1               9                 3                 No                   No   \n",
       "2               0                 0                Yes                   No   \n",
       "3               0                 0                 No                   No   \n",
       "4               0                 0                 No                   No   \n",
       "\n",
       "  Review Date  Five Star  Four Star  Three Star  Two Star  One Star  \n",
       "0   7/28/2018       23.0        5.0         1.0       3.0       6.0  \n",
       "1  11/14/2017       91.0       23.0        13.0       9.0      31.0  \n",
       "2   5/20/2020       32.0        8.0         1.0       0.0       0.0  \n",
       "3    7/9/2019      418.0       62.0        17.0       1.0      13.0  \n",
       "4   2/11/2020      213.0       57.0        25.0      24.0      87.0  "
      ]
     },
     "execution_count": 4,
     "metadata": {},
     "output_type": "execute_result"
    }
   ],
   "source": [
    "data.head()"
   ]
  },
  {
   "cell_type": "code",
   "execution_count": 5,
   "id": "aef5a853",
   "metadata": {},
   "outputs": [],
   "source": [
    "data1 = data[['Uniq Id','Review', 'Review Upvotes','Review Downvotes','Rating']]"
   ]
  },
  {
   "cell_type": "code",
   "execution_count": 6,
   "id": "657b3a41",
   "metadata": {},
   "outputs": [
    {
     "data": {
      "text/html": [
       "<div>\n",
       "<style scoped>\n",
       "    .dataframe tbody tr th:only-of-type {\n",
       "        vertical-align: middle;\n",
       "    }\n",
       "\n",
       "    .dataframe tbody tr th {\n",
       "        vertical-align: top;\n",
       "    }\n",
       "\n",
       "    .dataframe thead th {\n",
       "        text-align: right;\n",
       "    }\n",
       "</style>\n",
       "<table border=\"1\" class=\"dataframe\">\n",
       "  <thead>\n",
       "    <tr style=\"text-align: right;\">\n",
       "      <th></th>\n",
       "      <th>Uniq Id</th>\n",
       "      <th>Review</th>\n",
       "      <th>Review Upvotes</th>\n",
       "      <th>Review Downvotes</th>\n",
       "      <th>Rating</th>\n",
       "    </tr>\n",
       "  </thead>\n",
       "  <tbody>\n",
       "    <tr>\n",
       "      <th>0</th>\n",
       "      <td>1800878dcfa5255c691f2a87ce8b2869</td>\n",
       "      <td>One star for looking nice. That’s it. After tr...</td>\n",
       "      <td>0</td>\n",
       "      <td>0</td>\n",
       "      <td>1.0</td>\n",
       "    </tr>\n",
       "    <tr>\n",
       "      <th>1</th>\n",
       "      <td>ac06ca1b77310d539c9a74eed7a8a8e2</td>\n",
       "      <td>Love this phone so far have had it almost a mo...</td>\n",
       "      <td>9</td>\n",
       "      <td>3</td>\n",
       "      <td>4.0</td>\n",
       "    </tr>\n",
       "    <tr>\n",
       "      <th>2</th>\n",
       "      <td>9c4b10fff4e5e2cc7e2e1bbed76e2220</td>\n",
       "      <td>This TV is absolutely fantastic. This is my th...</td>\n",
       "      <td>0</td>\n",
       "      <td>0</td>\n",
       "      <td>4.0</td>\n",
       "    </tr>\n",
       "    <tr>\n",
       "      <th>3</th>\n",
       "      <td>b5a5dc8de9fc0468aab961f097b56091</td>\n",
       "      <td>Refurb, good shape, good price, does what I wa...</td>\n",
       "      <td>0</td>\n",
       "      <td>0</td>\n",
       "      <td>5.0</td>\n",
       "    </tr>\n",
       "    <tr>\n",
       "      <th>4</th>\n",
       "      <td>430433b52b882e540c16363d448e012b</td>\n",
       "      <td>Very nice tablet! Looks brand new. Fired right...</td>\n",
       "      <td>0</td>\n",
       "      <td>0</td>\n",
       "      <td>5.0</td>\n",
       "    </tr>\n",
       "  </tbody>\n",
       "</table>\n",
       "</div>"
      ],
      "text/plain": [
       "                            Uniq Id  \\\n",
       "0  1800878dcfa5255c691f2a87ce8b2869   \n",
       "1  ac06ca1b77310d539c9a74eed7a8a8e2   \n",
       "2  9c4b10fff4e5e2cc7e2e1bbed76e2220   \n",
       "3  b5a5dc8de9fc0468aab961f097b56091   \n",
       "4  430433b52b882e540c16363d448e012b   \n",
       "\n",
       "                                              Review  Review Upvotes  \\\n",
       "0  One star for looking nice. That’s it. After tr...               0   \n",
       "1  Love this phone so far have had it almost a mo...               9   \n",
       "2  This TV is absolutely fantastic. This is my th...               0   \n",
       "3  Refurb, good shape, good price, does what I wa...               0   \n",
       "4  Very nice tablet! Looks brand new. Fired right...               0   \n",
       "\n",
       "   Review Downvotes  Rating  \n",
       "0                 0     1.0  \n",
       "1                 3     4.0  \n",
       "2                 0     4.0  \n",
       "3                 0     5.0  \n",
       "4                 0     5.0  "
      ]
     },
     "execution_count": 6,
     "metadata": {},
     "output_type": "execute_result"
    }
   ],
   "source": [
    "data1.head()"
   ]
  },
  {
   "cell_type": "code",
   "execution_count": 7,
   "id": "8051ad0a",
   "metadata": {},
   "outputs": [
    {
     "data": {
      "text/plain": [
       "Uniq Id                0\n",
       "Review              5380\n",
       "Review Upvotes         0\n",
       "Review Downvotes       0\n",
       "Rating                 0\n",
       "dtype: int64"
      ]
     },
     "execution_count": 7,
     "metadata": {},
     "output_type": "execute_result"
    }
   ],
   "source": [
    "data1.isnull().sum()"
   ]
  },
  {
   "cell_type": "code",
   "execution_count": 8,
   "id": "0599e546",
   "metadata": {},
   "outputs": [
    {
     "name": "stderr",
     "output_type": "stream",
     "text": [
      "C:\\Users\\akken\\AppData\\Local\\Temp\\ipykernel_45036\\368752287.py:1: SettingWithCopyWarning: \n",
      "A value is trying to be set on a copy of a slice from a DataFrame\n",
      "\n",
      "See the caveats in the documentation: https://pandas.pydata.org/pandas-docs/stable/user_guide/indexing.html#returning-a-view-versus-a-copy\n",
      "  data1.dropna(how='any', inplace=True)\n"
     ]
    }
   ],
   "source": [
    "data1.dropna(how='any', inplace=True)\n"
   ]
  },
  {
   "cell_type": "code",
   "execution_count": 9,
   "id": "8df56735",
   "metadata": {},
   "outputs": [
    {
     "data": {
      "text/plain": [
       "Uniq Id             0\n",
       "Review              0\n",
       "Review Upvotes      0\n",
       "Review Downvotes    0\n",
       "Rating              0\n",
       "dtype: int64"
      ]
     },
     "execution_count": 9,
     "metadata": {},
     "output_type": "execute_result"
    }
   ],
   "source": [
    "data1.isnull().sum()"
   ]
  },
  {
   "cell_type": "markdown",
   "id": "42945630",
   "metadata": {},
   "source": [
    "### Visualization"
   ]
  },
  {
   "cell_type": "markdown",
   "id": "2e9f67ec",
   "metadata": {},
   "source": [
    "#### Creating a bar plot to visualize the average upvotes and downvotes based on different ratings"
   ]
  },
  {
   "cell_type": "code",
   "execution_count": 10,
   "id": "f7f21895",
   "metadata": {},
   "outputs": [
    {
     "data": {
      "image/png": "[encoded data removed]",
      "text/plain": [
       "<Figure size 640x480 with 1 Axes>"
      ]
     },
     "metadata": {},
     "output_type": "display_data"
    }
   ],
   "source": [
    "df = pd.DataFrame(data1)\n",
    "grouped = df.groupby('Rating').agg({\n",
    "    'Review Upvotes': 'mean',\n",
    "    'Review Downvotes': 'mean'\n",
    "}).reset_index()\n",
    "bar_width = 0.35\n",
    "index = range(len(grouped['Rating']))\n",
    "fig, ax = plt.subplots()\n",
    "bar1 = ax.bar(index, grouped['Review Upvotes'], bar_width, label='Avg Upvotes', color='b')\n",
    "bar2 = ax.bar([i+bar_width for i in index], grouped['Review Downvotes'], bar_width, label='Avg Downvotes', color='r')\n",
    "ax.set_xlabel('Rating')\n",
    "ax.set_ylabel('Counts')\n",
    "ax.set_title('Average Upvotes and Downvotes by Rating')\n",
    "ax.set_xticks([i + bar_width / 2 for i in index])\n",
    "ax.set_xticklabels(grouped['Rating'])\n",
    "ax.legend()\n",
    "plt.tight_layout()\n",
    "plt.show()\n"
   ]
  },
  {
   "cell_type": "markdown",
   "id": "53181394",
   "metadata": {},
   "source": [
    " A visual representation of the average upvotes and downvotes for different ratings, provides a quick and interpretable way to compare these values across rating."
   ]
  },
  {
   "cell_type": "markdown",
   "id": "b2c8adab",
   "metadata": {},
   "source": [
    "### Bar plot of Total Reviews per Rating"
   ]
  },
  {
   "cell_type": "code",
   "execution_count": 11,
   "id": "dfd16e45",
   "metadata": {},
   "outputs": [
    {
     "data": {
      "image/png": "[encoded data removed]",
      "text/plain": [
       "<Figure size 640x480 with 1 Axes>"
      ]
     },
     "metadata": {},
     "output_type": "display_data"
    }
   ],
   "source": [
    "df = pd.DataFrame(data1)\n",
    "rating_counts = df['Rating'].value_counts()\n",
    "rating_counts.sort_index().plot(kind='bar', color='skyblue', edgecolor='black')\n",
    "plt.title('Total Reviews per Rating')\n",
    "plt.xlabel('Rating')\n",
    "plt.ylabel('Number of Reviews')\n",
    "plt.xticks(rotation=0)\n",
    "plt.grid(axis='y')\n",
    "plt.show()\n"
   ]
  },
  {
   "cell_type": "markdown",
   "id": "d13cf794",
   "metadata": {},
   "source": [
    "The above bar plot represnts the distribuution of total reviews across different ratings, providing a quick overview of how many reviews fall into each rating category."
   ]
  },
  {
   "cell_type": "markdown",
   "id": "587f0ba1",
   "metadata": {},
   "source": [
    "#### Most frequent words for each rating"
   ]
  },
  {
   "cell_type": "code",
   "execution_count": 13,
   "id": "b96738d3",
   "metadata": {},
   "outputs": [
    {
     "name": "stdout",
     "output_type": "stream",
     "text": [
      "Requirement already satisfied: pandas in c:\\users\\akken\\anaconda3\\lib\\site-packages (2.0.3)\n",
      "Requirement already satisfied: matplotlib in c:\\users\\akken\\anaconda3\\lib\\site-packages (3.7.2)\n",
      "Requirement already satisfied: nltk in c:\\users\\akken\\anaconda3\\lib\\site-packages (3.8.1)\n",
      "Requirement already satisfied: python-dateutil>=2.8.2 in c:\\users\\akken\\anaconda3\\lib\\site-packages (from pandas) (2.8.2)\n",
      "Requirement already satisfied: pytz>=2020.1 in c:\\users\\akken\\anaconda3\\lib\\site-packages (from pandas) (2023.3.post1)\n",
      "Requirement already satisfied: tzdata>=2022.1 in c:\\users\\akken\\anaconda3\\lib\\site-packages (from pandas) (2023.3)\n",
      "Requirement already satisfied: numpy>=1.21.0 in c:\\users\\akken\\anaconda3\\lib\\site-packages (from pandas) (1.24.3)\n",
      "Requirement already satisfied: contourpy>=1.0.1 in c:\\users\\akken\\anaconda3\\lib\\site-packages (from matplotlib) (1.0.5)\n",
      "Requirement already satisfied: cycler>=0.10 in c:\\users\\akken\\anaconda3\\lib\\site-packages (from matplotlib) (0.11.0)\n",
      "Requirement already satisfied: fonttools>=4.22.0 in c:\\users\\akken\\anaconda3\\lib\\site-packages (from matplotlib) (4.25.0)\n",
      "Requirement already satisfied: kiwisolver>=1.0.1 in c:\\users\\akken\\anaconda3\\lib\\site-packages (from matplotlib) (1.4.4)\n",
      "Requirement already satisfied: packaging>=20.0 in c:\\users\\akken\\anaconda3\\lib\\site-packages (from matplotlib) (23.1)\n",
      "Requirement already satisfied: pillow>=6.2.0 in c:\\users\\akken\\anaconda3\\lib\\site-packages (from matplotlib) (9.4.0)\n",
      "Requirement already satisfied: pyparsing<3.1,>=2.3.1 in c:\\users\\akken\\anaconda3\\lib\\site-packages (from matplotlib) (3.0.9)\n",
      "Requirement already satisfied: click in c:\\users\\akken\\anaconda3\\lib\\site-packages (from nltk) (8.0.4)\n",
      "Requirement already satisfied: joblib in c:\\users\\akken\\anaconda3\\lib\\site-packages (from nltk) (1.2.0)\n",
      "Requirement already satisfied: regex>=2021.8.3 in c:\\users\\akken\\anaconda3\\lib\\site-packages (from nltk) (2022.7.9)\n",
      "Requirement already satisfied: tqdm in c:\\users\\akken\\anaconda3\\lib\\site-packages (from nltk) (4.65.0)\n",
      "Requirement already satisfied: six>=1.5 in c:\\users\\akken\\anaconda3\\lib\\site-packages (from python-dateutil>=2.8.2->pandas) (1.16.0)\n",
      "Requirement already satisfied: colorama in c:\\users\\akken\\anaconda3\\lib\\site-packages (from click->nltk) (0.4.6)\n",
      "Note: you may need to restart the kernel to use updated packages.\n"
     ]
    }
   ],
   "source": [
    "pip install pandas matplotlib nltk"
   ]
  },
  {
   "cell_type": "code",
   "execution_count": 14,
   "id": "da84cf0a",
   "metadata": {},
   "outputs": [
    {
     "name": "stderr",
     "output_type": "stream",
     "text": [
      "[nltk_data] Downloading package stopwords to\n",
      "[nltk_data]     C:\\Users\\akken\\AppData\\Roaming\\nltk_data...\n",
      "[nltk_data]   Package stopwords is already up-to-date!\n"
     ]
    },
    {
     "data": {
      "image/png": "[encoded data removed]",
      "text/plain": [
       "<Figure size 1000x500 with 1 Axes>"
      ]
     },
     "metadata": {},
     "output_type": "display_data"
    },
    {
     "data": {
      "image/png": "[encoded data removed]",
      "text/plain": [
       "<Figure size 1000x500 with 1 Axes>"
      ]
     },
     "metadata": {},
     "output_type": "display_data"
    },
    {
     "data": {
      "image/png": "[encoded data removed]",
      "text/plain": [
       "<Figure size 1000x500 with 1 Axes>"
      ]
     },
     "metadata": {},
     "output_type": "display_data"
    },
    {
     "data": {
      "image/png": "[encoded data removed]",
      "text/plain": [
       "<Figure size 1000x500 with 1 Axes>"
      ]
     },
     "metadata": {},
     "output_type": "display_data"
    },
    {
     "data": {
      "image/png": "[encoded data removed]",
      "text/plain": [
       "<Figure size 1000x500 with 1 Axes>"
      ]
     },
     "metadata": {},
     "output_type": "display_data"
    }
   ],
   "source": [
    "import pandas as pd\n",
    "import matplotlib.pyplot as plt\n",
    "from collections import Counter\n",
    "import nltk\n",
    "from nltk.corpus import stopwords\n",
    "nltk.download('stopwords')\n",
    "def preprocess_text(text):\n",
    "    stop_words = set(stopwords.words('english'))\n",
    "    tokens = nltk.word_tokenize(text.lower())\n",
    "    tokens = [word for word in tokens if word.isalpha() and word not in stop_words]\n",
    "    return tokens\n",
    "data1 = data1.copy()\n",
    "data1['tokens'] = data1['Review'].apply(preprocess_text)\n",
    "word_counters = [Counter(tokens) for tokens in data1['tokens']]\n",
    "word_counts_df = pd.DataFrame({'Rating': data1['Rating'], 'word_counts': word_counters})\n",
    "word_counts_grouped = word_counts_df.groupby('Rating')['word_counts'].sum()\n",
    "for rating, counts in word_counts_grouped.items():\n",
    "    common_words = counts.most_common(10)\n",
    "    words, frequencies = zip(*common_words)\n",
    "\n",
    "    plt.figure(figsize=(10, 5))\n",
    "    plt.bar(words, frequencies)\n",
    "    plt.title(f'Most Frequent Words for Rating {rating}')\n",
    "    plt.xlabel('Words')\n",
    "    plt.ylabel('Frequency')\n",
    "    plt.show()"
   ]
  },
  {
   "cell_type": "markdown",
   "id": "97b11be6",
   "metadata": {},
   "source": [
    "The above charts provides insights into the words that are most commonly used in reviews for each rating category, offering a glimpse into the language and sentiments associated with different product ratings."
   ]
  },
  {
   "cell_type": "markdown",
   "id": "d4251d76",
   "metadata": {},
   "source": [
    "### NLP Preprocessing"
   ]
  },
  {
   "cell_type": "code",
   "execution_count": 15,
   "id": "04ab7408",
   "metadata": {},
   "outputs": [
    {
     "name": "stderr",
     "output_type": "stream",
     "text": [
      "[nltk_data] Downloading package punkt to\n",
      "[nltk_data]     C:\\Users\\akken\\AppData\\Roaming\\nltk_data...\n",
      "[nltk_data]   Package punkt is already up-to-date!\n",
      "[nltk_data] Downloading package stopwords to\n",
      "[nltk_data]     C:\\Users\\akken\\AppData\\Roaming\\nltk_data...\n",
      "[nltk_data]   Package stopwords is already up-to-date!\n"
     ]
    },
    {
     "data": {
      "text/plain": [
       "True"
      ]
     },
     "execution_count": 15,
     "metadata": {},
     "output_type": "execute_result"
    }
   ],
   "source": [
    "import nltk\n",
    "nltk.download('punkt') \n",
    "nltk.download('stopwords')"
   ]
  },
  {
   "cell_type": "code",
   "execution_count": 16,
   "id": "06d179e9",
   "metadata": {},
   "outputs": [],
   "source": [
    "def map_rating_to_sentiment(rating):\n",
    "    if rating > 3:\n",
    "        return 1 \n",
    "    elif rating < 3:\n",
    "        return 0  \n",
    "    else:\n",
    "        return None \n",
    "data1['Sentiment'] = data1['Rating'].apply(map_rating_to_sentiment)\n",
    "data1 = data1.dropna(subset=['Sentiment'])\n"
   ]
  },
  {
   "cell_type": "code",
   "execution_count": 17,
   "id": "8dcbe043",
   "metadata": {},
   "outputs": [
    {
     "data": {
      "text/html": [
       "<div>\n",
       "<style scoped>\n",
       "    .dataframe tbody tr th:only-of-type {\n",
       "        vertical-align: middle;\n",
       "    }\n",
       "\n",
       "    .dataframe tbody tr th {\n",
       "        vertical-align: top;\n",
       "    }\n",
       "\n",
       "    .dataframe thead th {\n",
       "        text-align: right;\n",
       "    }\n",
       "</style>\n",
       "<table border=\"1\" class=\"dataframe\">\n",
       "  <thead>\n",
       "    <tr style=\"text-align: right;\">\n",
       "      <th></th>\n",
       "      <th>Uniq Id</th>\n",
       "      <th>Review</th>\n",
       "      <th>Review Upvotes</th>\n",
       "      <th>Review Downvotes</th>\n",
       "      <th>Rating</th>\n",
       "      <th>tokens</th>\n",
       "      <th>Sentiment</th>\n",
       "    </tr>\n",
       "  </thead>\n",
       "  <tbody>\n",
       "    <tr>\n",
       "      <th>0</th>\n",
       "      <td>1800878dcfa5255c691f2a87ce8b2869</td>\n",
       "      <td>One star for looking nice. That’s it. After tr...</td>\n",
       "      <td>0</td>\n",
       "      <td>0</td>\n",
       "      <td>1.0</td>\n",
       "      <td>[one, star, looking, nice, trying, trying, par...</td>\n",
       "      <td>0.0</td>\n",
       "    </tr>\n",
       "    <tr>\n",
       "      <th>1</th>\n",
       "      <td>ac06ca1b77310d539c9a74eed7a8a8e2</td>\n",
       "      <td>Love this phone so far have had it almost a mo...</td>\n",
       "      <td>9</td>\n",
       "      <td>3</td>\n",
       "      <td>4.0</td>\n",
       "      <td>[love, phone, far, almost, month, bad, problem...</td>\n",
       "      <td>1.0</td>\n",
       "    </tr>\n",
       "    <tr>\n",
       "      <th>2</th>\n",
       "      <td>9c4b10fff4e5e2cc7e2e1bbed76e2220</td>\n",
       "      <td>This TV is absolutely fantastic. This is my th...</td>\n",
       "      <td>0</td>\n",
       "      <td>0</td>\n",
       "      <td>4.0</td>\n",
       "      <td>[tv, absolutely, fantastic, third, tv, blows, ...</td>\n",
       "      <td>1.0</td>\n",
       "    </tr>\n",
       "    <tr>\n",
       "      <th>3</th>\n",
       "      <td>b5a5dc8de9fc0468aab961f097b56091</td>\n",
       "      <td>Refurb, good shape, good price, does what I wa...</td>\n",
       "      <td>0</td>\n",
       "      <td>0</td>\n",
       "      <td>5.0</td>\n",
       "      <td>[refurb, good, shape, good, price, want]</td>\n",
       "      <td>1.0</td>\n",
       "    </tr>\n",
       "    <tr>\n",
       "      <th>4</th>\n",
       "      <td>430433b52b882e540c16363d448e012b</td>\n",
       "      <td>Very nice tablet! Looks brand new. Fired right...</td>\n",
       "      <td>0</td>\n",
       "      <td>0</td>\n",
       "      <td>5.0</td>\n",
       "      <td>[nice, tablet, looks, brand, new, fired, right...</td>\n",
       "      <td>1.0</td>\n",
       "    </tr>\n",
       "    <tr>\n",
       "      <th>...</th>\n",
       "      <td>...</td>\n",
       "      <td>...</td>\n",
       "      <td>...</td>\n",
       "      <td>...</td>\n",
       "      <td>...</td>\n",
       "      <td>...</td>\n",
       "      <td>...</td>\n",
       "    </tr>\n",
       "    <tr>\n",
       "      <th>29991</th>\n",
       "      <td>8d751eb9c8ed7cebcd0451861b1abe09</td>\n",
       "      <td>I'm pleased to say that the overall style fit ...</td>\n",
       "      <td>0</td>\n",
       "      <td>0</td>\n",
       "      <td>5.0</td>\n",
       "      <td>[pleased, say, overall, style, fit, comfort, m...</td>\n",
       "      <td>1.0</td>\n",
       "    </tr>\n",
       "    <tr>\n",
       "      <th>29992</th>\n",
       "      <td>355d86361ed106ae2e3168c75f501f34</td>\n",
       "      <td>My son got it for me for christmas i love it i...</td>\n",
       "      <td>0</td>\n",
       "      <td>0</td>\n",
       "      <td>5.0</td>\n",
       "      <td>[son, got, christmas, love, many, options]</td>\n",
       "      <td>1.0</td>\n",
       "    </tr>\n",
       "    <tr>\n",
       "      <th>29994</th>\n",
       "      <td>ed0fc14441b566c17cdf6a7d52ba1959</td>\n",
       "      <td>Ive had my t.v. since xmas. First thing that w...</td>\n",
       "      <td>0</td>\n",
       "      <td>0</td>\n",
       "      <td>1.0</td>\n",
       "      <td>[ive, since, xmas, first, thing, messed, one, ...</td>\n",
       "      <td>0.0</td>\n",
       "    </tr>\n",
       "    <tr>\n",
       "      <th>29995</th>\n",
       "      <td>5a19ee1daaf4c1b4d9459afaafe61e7e</td>\n",
       "      <td>Good value, quality product, easy to setup, no...</td>\n",
       "      <td>0</td>\n",
       "      <td>0</td>\n",
       "      <td>5.0</td>\n",
       "      <td>[good, value, quality, product, easy, setup, c...</td>\n",
       "      <td>1.0</td>\n",
       "    </tr>\n",
       "    <tr>\n",
       "      <th>29996</th>\n",
       "      <td>9916e6e252183b721902bb1c03a11e4b</td>\n",
       "      <td>Movies long since forgottenabout my Roku about...</td>\n",
       "      <td>0</td>\n",
       "      <td>0</td>\n",
       "      <td>5.0</td>\n",
       "      <td>[movies, long, since, forgottenabout, roku, tw...</td>\n",
       "      <td>1.0</td>\n",
       "    </tr>\n",
       "  </tbody>\n",
       "</table>\n",
       "<p>23116 rows × 7 columns</p>\n",
       "</div>"
      ],
      "text/plain": [
       "                                Uniq Id  \\\n",
       "0      1800878dcfa5255c691f2a87ce8b2869   \n",
       "1      ac06ca1b77310d539c9a74eed7a8a8e2   \n",
       "2      9c4b10fff4e5e2cc7e2e1bbed76e2220   \n",
       "3      b5a5dc8de9fc0468aab961f097b56091   \n",
       "4      430433b52b882e540c16363d448e012b   \n",
       "...                                 ...   \n",
       "29991  8d751eb9c8ed7cebcd0451861b1abe09   \n",
       "29992  355d86361ed106ae2e3168c75f501f34   \n",
       "29994  ed0fc14441b566c17cdf6a7d52ba1959   \n",
       "29995  5a19ee1daaf4c1b4d9459afaafe61e7e   \n",
       "29996  9916e6e252183b721902bb1c03a11e4b   \n",
       "\n",
       "                                                  Review  Review Upvotes  \\\n",
       "0      One star for looking nice. That’s it. After tr...               0   \n",
       "1      Love this phone so far have had it almost a mo...               9   \n",
       "2      This TV is absolutely fantastic. This is my th...               0   \n",
       "3      Refurb, good shape, good price, does what I wa...               0   \n",
       "4      Very nice tablet! Looks brand new. Fired right...               0   \n",
       "...                                                  ...             ...   \n",
       "29991  I'm pleased to say that the overall style fit ...               0   \n",
       "29992  My son got it for me for christmas i love it i...               0   \n",
       "29994  Ive had my t.v. since xmas. First thing that w...               0   \n",
       "29995  Good value, quality product, easy to setup, no...               0   \n",
       "29996  Movies long since forgottenabout my Roku about...               0   \n",
       "\n",
       "       Review Downvotes  Rating  \\\n",
       "0                     0     1.0   \n",
       "1                     3     4.0   \n",
       "2                     0     4.0   \n",
       "3                     0     5.0   \n",
       "4                     0     5.0   \n",
       "...                 ...     ...   \n",
       "29991                 0     5.0   \n",
       "29992                 0     5.0   \n",
       "29994                 0     1.0   \n",
       "29995                 0     5.0   \n",
       "29996                 0     5.0   \n",
       "\n",
       "                                                  tokens  Sentiment  \n",
       "0      [one, star, looking, nice, trying, trying, par...        0.0  \n",
       "1      [love, phone, far, almost, month, bad, problem...        1.0  \n",
       "2      [tv, absolutely, fantastic, third, tv, blows, ...        1.0  \n",
       "3               [refurb, good, shape, good, price, want]        1.0  \n",
       "4      [nice, tablet, looks, brand, new, fired, right...        1.0  \n",
       "...                                                  ...        ...  \n",
       "29991  [pleased, say, overall, style, fit, comfort, m...        1.0  \n",
       "29992         [son, got, christmas, love, many, options]        1.0  \n",
       "29994  [ive, since, xmas, first, thing, messed, one, ...        0.0  \n",
       "29995  [good, value, quality, product, easy, setup, c...        1.0  \n",
       "29996  [movies, long, since, forgottenabout, roku, tw...        1.0  \n",
       "\n",
       "[23116 rows x 7 columns]"
      ]
     },
     "execution_count": 17,
     "metadata": {},
     "output_type": "execute_result"
    }
   ],
   "source": [
    "data1"
   ]
  },
  {
   "cell_type": "code",
   "execution_count": 18,
   "id": "e8eef5a2",
   "metadata": {},
   "outputs": [
    {
     "name": "stderr",
     "output_type": "stream",
     "text": [
      "[nltk_data] Downloading package punkt to\n",
      "[nltk_data]     C:\\Users\\akken\\AppData\\Roaming\\nltk_data...\n",
      "[nltk_data]   Package punkt is already up-to-date!\n",
      "[nltk_data] Downloading package stopwords to\n",
      "[nltk_data]     C:\\Users\\akken\\AppData\\Roaming\\nltk_data...\n",
      "[nltk_data]   Package stopwords is already up-to-date!\n"
     ]
    }
   ],
   "source": [
    "import nltk\n",
    "import pandas as pd\n",
    "import numpy as np\n",
    "import matplotlib.pyplot as plt\n",
    "from nltk.tokenize import word_tokenize\n",
    "from nltk.corpus import stopwords\n",
    "from nltk.stem import PorterStemmer, WordNetLemmatizer\n",
    "\n",
    "nltk.download('punkt')\n",
    "nltk.download('stopwords')\n",
    "\n",
    "\n",
    "def tokenize(text):\n",
    "    return word_tokenize(text)\n",
    "def to_lowercase(tokens):\n",
    "    return [token.lower() for token in tokens]\n",
    "def remove_special_characters(tokens):\n",
    "    return [token for token in tokens if token.isalnum()]\n",
    "def remove_stopwords(tokens):\n",
    "    stop_words = set(stopwords.words('english'))\n",
    "    return [token for token in tokens if token not in stop_words]\n",
    "def stem(tokens):\n",
    "    stemmer = PorterStemmer()\n",
    "    return [stemmer.stem(token) for token in tokens]\n",
    "def lemmatize(tokens):\n",
    "    lemmatizer = WordNetLemmatizer()\n",
    "    return [lemmatizer.lemmatize(token, pos='v') for token in tokens]\n",
    "def preprocess_text(text):\n",
    "    tokens = tokenize(text)\n",
    "    tokens = to_lowercase(tokens)\n",
    "    tokens = remove_special_characters(tokens)\n",
    "    tokens = remove_stopwords(tokens)\n",
    "    tokens = lemmatize(tokens)\n",
    "    return ' '.join(tokens)\n",
    "data1['processed_text'] = data1['Review'].apply(preprocess_text)"
   ]
  },
  {
   "cell_type": "markdown",
   "id": "bcb7b6b1",
   "metadata": {},
   "source": [
    "### Feature Extraction along with model training and evaluation"
   ]
  },
  {
   "cell_type": "markdown",
   "id": "659ad130",
   "metadata": {},
   "source": [
    "#### Bag of words"
   ]
  },
  {
   "cell_type": "code",
   "execution_count": 19,
   "id": "e251d393",
   "metadata": {},
   "outputs": [],
   "source": [
    "from sklearn.feature_extraction.text import CountVectorizer\n",
    "vectorizer = CountVectorizer(ngram_range=(1,3))\n",
    "Bag_of_words_data = vectorizer.fit_transform(data1['processed_text'])\n"
   ]
  },
  {
   "cell_type": "code",
   "execution_count": 20,
   "id": "8c06e670",
   "metadata": {},
   "outputs": [],
   "source": [
    "from sklearn.model_selection import train_test_split\n",
    "from sklearn.linear_model import LogisticRegression\n",
    "X_train_bow, X_test_bow, y_train_bow, y_test_bow = train_test_split(\n",
    "    Bag_of_words_data, \n",
    "    data1['Sentiment'],  \n",
    "    test_size=0.25, \n",
    "    random_state=42\n",
    ")\n"
   ]
  },
  {
   "cell_type": "code",
   "execution_count": 21,
   "id": "42d29a85",
   "metadata": {},
   "outputs": [
    {
     "name": "stdout",
     "output_type": "stream",
     "text": [
      "Requirement already satisfied: imbalanced-learn in c:\\users\\akken\\anaconda3\\lib\\site-packages (0.10.1)\n",
      "Requirement already satisfied: numpy>=1.17.3 in c:\\users\\akken\\anaconda3\\lib\\site-packages (from imbalanced-learn) (1.24.3)\n",
      "Requirement already satisfied: scipy>=1.3.2 in c:\\users\\akken\\anaconda3\\lib\\site-packages (from imbalanced-learn) (1.11.1)\n",
      "Requirement already satisfied: scikit-learn>=1.0.2 in c:\\users\\akken\\anaconda3\\lib\\site-packages (from imbalanced-learn) (1.2.2)\n",
      "Requirement already satisfied: joblib>=1.1.1 in c:\\users\\akken\\anaconda3\\lib\\site-packages (from imbalanced-learn) (1.2.0)\n",
      "Requirement already satisfied: threadpoolctl>=2.0.0 in c:\\users\\akken\\anaconda3\\lib\\site-packages (from imbalanced-learn) (2.2.0)\n",
      "Note: you may need to restart the kernel to use updated packages.\n"
     ]
    }
   ],
   "source": [
    "pip install imbalanced-learn"
   ]
  },
  {
   "cell_type": "code",
   "execution_count": 22,
   "id": "721e25d1",
   "metadata": {},
   "outputs": [],
   "source": [
    "from imblearn.over_sampling import SMOTE\n",
    "smote = SMOTE(random_state=42)\n",
    "X_train_bow_smote, y_train_bow_smote = smote.fit_resample(X_train_bow, y_train_bow)"
   ]
  },
  {
   "cell_type": "code",
   "execution_count": 25,
   "id": "08e067bf",
   "metadata": {},
   "outputs": [
    {
     "name": "stdout",
     "output_type": "stream",
     "text": [
      "Positive reviews: 14240\n",
      "Negative reviews: 14240\n"
     ]
    }
   ],
   "source": [
    "positive_count = len(y_train_bow_smote[y_train_bow_smote == 1])\n",
    "negative_count = len(y_train_bow_smote[y_train_bow_smote == 0])\n",
    "print(f\"Positive reviews: {positive_count}\")\n",
    "print(f\"Negative reviews: {negative_count}\")\n"
   ]
  },
  {
   "cell_type": "markdown",
   "id": "3a01cd3a",
   "metadata": {},
   "source": [
    "#### Logistic Regression Model"
   ]
  },
  {
   "cell_type": "code",
   "execution_count": 27,
   "id": "aeb256ae",
   "metadata": {},
   "outputs": [
    {
     "name": "stdout",
     "output_type": "stream",
     "text": [
      "Accuracy: 0.8935802041875757\n",
      "\n",
      "Classification Report:\n",
      "              precision    recall  f1-score   support\n",
      "\n",
      "         0.0       0.66      0.80      0.72      1007\n",
      "         1.0       0.96      0.91      0.93      4772\n",
      "\n",
      "    accuracy                           0.89      5779\n",
      "   macro avg       0.81      0.86      0.83      5779\n",
      "weighted avg       0.90      0.89      0.90      5779\n",
      "\n"
     ]
    },
    {
     "name": "stderr",
     "output_type": "stream",
     "text": [
      "C:\\Users\\akken\\anaconda3\\Lib\\site-packages\\sklearn\\linear_model\\_logistic.py:458: ConvergenceWarning: lbfgs failed to converge (status=1):\n",
      "STOP: TOTAL NO. of ITERATIONS REACHED LIMIT.\n",
      "\n",
      "Increase the number of iterations (max_iter) or scale the data as shown in:\n",
      "    https://scikit-learn.org/stable/modules/preprocessing.html\n",
      "Please also refer to the documentation for alternative solver options:\n",
      "    https://scikit-learn.org/stable/modules/linear_model.html#logistic-regression\n",
      "  n_iter_i = _check_optimize_result(\n"
     ]
    }
   ],
   "source": [
    "from sklearn.linear_model import LogisticRegression\n",
    "from sklearn.metrics import classification_report, accuracy_score\n",
    "logreg = LogisticRegression()\n",
    "logreg.fit(X_train_bow_smote, y_train_bow_smote)\n",
    "predictions = logreg.predict(X_test_bow)\n",
    "print(\"Accuracy:\", accuracy_score(y_test_bow, predictions))\n",
    "print(\"\\nClassification Report:\")\n",
    "print(classification_report(y_test_bow, predictions))\n"
   ]
  },
  {
   "cell_type": "markdown",
   "id": "74cae038",
   "metadata": {},
   "source": [
    "#### Naive Bayes model"
   ]
  },
  {
   "cell_type": "code",
   "execution_count": 28,
   "id": "9add7ad6",
   "metadata": {},
   "outputs": [
    {
     "name": "stdout",
     "output_type": "stream",
     "text": [
      "Accuracy of Naive Bayes: 0.9067312683855339\n",
      "\n",
      "Classification Report for Naive Bayes:\n",
      "              precision    recall  f1-score   support\n",
      "\n",
      "         0.0       0.69      0.84      0.76      1007\n",
      "         1.0       0.96      0.92      0.94      4772\n",
      "\n",
      "    accuracy                           0.91      5779\n",
      "   macro avg       0.83      0.88      0.85      5779\n",
      "weighted avg       0.92      0.91      0.91      5779\n",
      "\n"
     ]
    }
   ],
   "source": [
    "from sklearn.naive_bayes import MultinomialNB\n",
    "from sklearn.metrics import classification_report, accuracy_score\n",
    "nb_model = MultinomialNB()\n",
    "nb_model.fit(X_train_bow_smote, y_train_bow_smote)\n",
    "nb_predictions = nb_model.predict(X_test_bow)\n",
    "print(\"Accuracy of Naive Bayes:\", accuracy_score(y_test_bow, nb_predictions))\n",
    "print(\"\\nClassification Report for Naive Bayes:\")\n",
    "print(classification_report(y_test_bow, nb_predictions))\n"
   ]
  },
  {
   "cell_type": "markdown",
   "id": "0e299e01",
   "metadata": {},
   "source": [
    "#### SVM Model"
   ]
  },
  {
   "cell_type": "code",
   "execution_count": 29,
   "id": "14181573",
   "metadata": {},
   "outputs": [
    {
     "name": "stdout",
     "output_type": "stream",
     "text": [
      "Accuracy of SVM: 0.872469285343485\n",
      "\n",
      "Classification Report for SVM:\n",
      "              precision    recall  f1-score   support\n",
      "\n",
      "         0.0       0.67      0.54      0.60      1007\n",
      "         1.0       0.91      0.94      0.92      4772\n",
      "\n",
      "    accuracy                           0.87      5779\n",
      "   macro avg       0.79      0.74      0.76      5779\n",
      "weighted avg       0.86      0.87      0.87      5779\n",
      "\n"
     ]
    }
   ],
   "source": [
    "from sklearn.svm import SVC\n",
    "from sklearn.metrics import classification_report, accuracy_score\n",
    "svm_model = SVC()\n",
    "svm_model.fit(X_train_bow_smote, y_train_bow_smote)\n",
    "svm_predictions = svm_model.predict(X_test_bow)\n",
    "print(\"Accuracy of SVM:\", accuracy_score(y_test_bow, svm_predictions))\n",
    "print(\"\\nClassification Report for SVM:\")\n",
    "print(classification_report(y_test_bow, svm_predictions))\n"
   ]
  },
  {
   "cell_type": "markdown",
   "id": "268d3f33",
   "metadata": {},
   "source": [
    "### TF-IDF Vectorizer"
   ]
  },
  {
   "cell_type": "code",
   "execution_count": 31,
   "id": "f670e2c5",
   "metadata": {},
   "outputs": [],
   "source": [
    "import pandas as pd\n",
    "from sklearn.feature_extraction.text import TfidfVectorizer\n",
    "from sklearn.model_selection import train_test_split\n",
    "tfidf_vectorizer = TfidfVectorizer()\n",
    "X = tfidf_vectorizer.fit_transform(data1['processed_text'])\n",
    "y = data1['Sentiment']\n",
    "X_train_Tfidf, X_test_Tfidf, y_train_Tfidf, y_test_Tfidf = train_test_split(X, y, test_size=0.25, random_state=42)\n",
    "\n"
   ]
  },
  {
   "cell_type": "code",
   "execution_count": 32,
   "id": "2359c482",
   "metadata": {},
   "outputs": [],
   "source": [
    "smote_tdidf = SMOTE(random_state=42)\n",
    "X_train_Tfidf_smote, y_train_Tfidf_smote = smote_tdidf.fit_resample(X_train_Tfidf, y_train_Tfidf)"
   ]
  },
  {
   "cell_type": "markdown",
   "id": "ba50f81f",
   "metadata": {},
   "source": [
    "#### Logistic Regression"
   ]
  },
  {
   "cell_type": "code",
   "execution_count": 33,
   "id": "2e9750c0",
   "metadata": {},
   "outputs": [
    {
     "name": "stdout",
     "output_type": "stream",
     "text": [
      "Accuracy: 0.9193632116283094\n",
      "\n",
      "Classification Report:\n",
      "              precision    recall  f1-score   support\n",
      "\n",
      "         0.0       0.73      0.86      0.79      1007\n",
      "         1.0       0.97      0.93      0.95      4772\n",
      "\n",
      "    accuracy                           0.92      5779\n",
      "   macro avg       0.85      0.90      0.87      5779\n",
      "weighted avg       0.93      0.92      0.92      5779\n",
      "\n"
     ]
    }
   ],
   "source": [
    "logreg_Tfidf = LogisticRegression()\n",
    "logreg_Tfidf.fit(X_train_Tfidf_smote, y_train_Tfidf_smote)\n",
    "predictions = logreg_Tfidf.predict(X_test_Tfidf)\n",
    "print(\"Accuracy:\", accuracy_score(y_test_Tfidf, predictions))\n",
    "print(\"\\nClassification Report:\")\n",
    "print(classification_report(y_test_bow, predictions))\n"
   ]
  },
  {
   "cell_type": "markdown",
   "id": "7a188a07",
   "metadata": {},
   "source": [
    "#### Naive Bayes"
   ]
  },
  {
   "cell_type": "code",
   "execution_count": 35,
   "id": "a929ffc0",
   "metadata": {},
   "outputs": [
    {
     "name": "stdout",
     "output_type": "stream",
     "text": [
      "Accuracy of Naive Bayes: 0.8916767606852397\n",
      "\n",
      "Classification Report for Naive Bayes:\n",
      "              precision    recall  f1-score   support\n",
      "\n",
      "         0.0       0.64      0.88      0.74      1007\n",
      "         1.0       0.97      0.89      0.93      4772\n",
      "\n",
      "    accuracy                           0.89      5779\n",
      "   macro avg       0.80      0.89      0.84      5779\n",
      "weighted avg       0.91      0.89      0.90      5779\n",
      "\n"
     ]
    }
   ],
   "source": [
    "nb_model_Tfidf = MultinomialNB()\n",
    "nb_model_Tfidf.fit(X_train_Tfidf_smote, y_train_Tfidf_smote)\n",
    "nb_predictions_Tfidf = nb_model_Tfidf.predict(X_test_Tfidf)\n",
    "print(\"Accuracy of Naive Bayes:\", accuracy_score(y_test_Tfidf, nb_predictions_Tfidf))\n",
    "print(\"\\nClassification Report for Naive Bayes:\")\n",
    "print(classification_report(y_test_Tfidf, nb_predictions_Tfidf))\n"
   ]
  },
  {
   "cell_type": "markdown",
   "id": "1bb7211e",
   "metadata": {},
   "source": [
    "#### Random Forest"
   ]
  },
  {
   "cell_type": "code",
   "execution_count": 30,
   "id": "443e0e59",
   "metadata": {},
   "outputs": [
    {
     "name": "stdout",
     "output_type": "stream",
     "text": [
      "Accuracy of Random Forest: 0.9063851877487454\n",
      "\n",
      "Classification Report for Random Forest:\n",
      "              precision    recall  f1-score   support\n",
      "\n",
      "         0.0       0.92      0.51      0.65      1007\n",
      "         1.0       0.91      0.99      0.95      4772\n",
      "\n",
      "    accuracy                           0.91      5779\n",
      "   macro avg       0.91      0.75      0.80      5779\n",
      "weighted avg       0.91      0.91      0.90      5779\n",
      "\n"
     ]
    }
   ],
   "source": [
    "rf_model_Tfidf = RandomForestClassifier(n_estimators=100, random_state=42)\n",
    "rf_model_Tfidf.fit(X_train_Tfidf_smote, y_train_Tfidf_smote)\n",
    "rf_predictions_Tfidf = rf_model_Tfidf.predict(X_test_Tfidf)\n",
    "print(\"Accuracy of Random Forest:\", accuracy_score(y_test_Tfidf, rf_predictions_Tfidf))\n",
    "print(\"\\nClassification Report for Random Forest:\")\n",
    "print(classification_report(y_test_Tfidf, rf_predictions_Tfidf))"
   ]
  },
  {
   "cell_type": "markdown",
   "id": "cf3e0099",
   "metadata": {},
   "source": [
    "### Using streamlit for web page creation"
   ]
  },
  {
   "cell_type": "code",
   "execution_count": 55,
   "id": "5fa6f8e5",
   "metadata": {},
   "outputs": [
    {
     "data": {
      "text/plain": [
       "['logreg_Tfidf.pkl']"
      ]
     },
     "execution_count": 55,
     "metadata": {},
     "output_type": "execute_result"
    }
   ],
   "source": [
    "import joblib\n",
    "\n",
    "joblib.dump(tfidf_vectorizer, 'tfidf_vectorizer.pkl')\n",
    "joblib.dump(logreg_Tfidf, 'logreg_Tfidf.pkl')\n"
   ]
  }
 ],
 "metadata": {
  "kernelspec": {
   "display_name": "Python 3 (ipykernel)",
   "language": "python",
   "name": "python3"
  },
  "language_info": {
   "codemirror_mode": {
    "name": "ipython",
    "version": 3
   },
   "file_extension": ".py",
   "mimetype": "text/x-python",
   "name": "python",
   "nbconvert_exporter": "python",
   "pygments_lexer": "ipython3",
   "version": "3.11.5"
  }
 },
 "nbformat": 4,
 "nbformat_minor": 5
}
